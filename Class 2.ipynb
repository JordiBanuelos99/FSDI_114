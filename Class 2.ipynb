{
 "cells": [
  {
   "cell_type": "code",
   "execution_count": 1,
   "id": "dfc57181",
   "metadata": {},
   "outputs": [],
   "source": [
    "# This is an example of a stack using built-in data structures\n",
    "# User-defined Data Structure\n",
    "\n",
    "class Stack:\n",
    "    def __init__(self):\n",
    "        self.items = []\n",
    "    \n",
    "    def push(self,item):\n",
    "        self.items.append(item)\n",
    "\n",
    "    def pop(self):\n",
    "        return self.items.pop()\n",
    "\n",
    "    def is_empty(self):\n",
    "        return self.items == []\n",
    "\n",
    "    def peek(self):\n",
    "        return self.items[len(self.items)-1]"
   ]
  },
  {
   "cell_type": "markdown",
   "id": "0775ff35",
   "metadata": {},
   "source": [
    "# Problem 2: Invert a string\n",
    "### Stacks naturally allow us to invert a sequence of elements if we sequentally push them onto our stack and sequentially pop them from our stack.\n",
    "\n",
    "### User our stack class above to invert a string such that:\n",
    "---\n",
    "reverse(\"Rafael\") returns \"leafaR\"\n",
    "reverse(\"racecar\") returns \"racecar\"\n",
    "reverse(\"AbCdE\") returns \"EdCbA\"\n",
    "\n",
    "# this function must use our Stack class above to invert a string\n",
    "\n",
    "def reverse(mystring):\n",
    "-pass"
   ]
  },
  {
   "cell_type": "code",
   "execution_count": 2,
   "id": "8fb328db",
   "metadata": {
    "scrolled": true
   },
   "outputs": [
    {
     "name": "stdout",
     "output_type": "stream",
     "text": [
      "Adding R to our stack\n",
      "Adding a to our stack\n",
      "Adding f to our stack\n",
      "Adding a to our stack\n",
      "Adding e to our stack\n",
      "Adding l to our stack\n",
      "Adding l to our output string\n",
      "Adding e to our output string\n",
      "Adding a to our output string\n",
      "Adding f to our output string\n",
      "Adding a to our output string\n",
      "Adding R to our output string\n",
      "leafaR\n",
      "Adding r to our stack\n",
      "Adding a to our stack\n",
      "Adding c to our stack\n",
      "Adding e to our stack\n",
      "Adding c to our stack\n",
      "Adding a to our stack\n",
      "Adding r to our stack\n",
      "Adding r to our output string\n",
      "Adding a to our output string\n",
      "Adding c to our output string\n",
      "Adding e to our output string\n",
      "Adding c to our output string\n",
      "Adding a to our output string\n",
      "Adding r to our output string\n",
      "racecar\n",
      "Adding A to our stack\n",
      "Adding b to our stack\n",
      "Adding C to our stack\n",
      "Adding d to our stack\n",
      "Adding E to our stack\n",
      "Adding E to our output string\n",
      "Adding d to our output string\n",
      "Adding C to our output string\n",
      "Adding b to our output string\n",
      "Adding A to our output string\n",
      "EdCbA\n"
     ]
    }
   ],
   "source": [
    "from time import sleep\n",
    "\n",
    "def reverse(mystring):\n",
    "    stack = Stack()\n",
    "    out = \"\"\n",
    "    for letter in mystring:\n",
    "        print(\"Adding %s to our stack\" % letter)\n",
    "        sleep(1)\n",
    "        stack.push(letter)\n",
    "    while stack.is_empty() != True:\n",
    "        char = stack.pop()\n",
    "        print(\"Adding %s to our output string\" % char)\n",
    "        sleep(1)\n",
    "        out = out + char\n",
    "    return out\n",
    "\n",
    "print(reverse(\"Rafael\"))\n",
    "print(reverse(\"racecar\"))\n",
    "print(reverse(\"AbCdE\"))"
   ]
  },
  {
   "cell_type": "code",
   "execution_count": 8,
   "id": "ff563f0c",
   "metadata": {},
   "outputs": [],
   "source": [
    "class Queue:\n",
    "    def __init__(self):\n",
    "        self.items = []\n",
    "\n",
    "    def enqueue(self, item):\n",
    "        self.items.insert(0, item)\n",
    "\n",
    "    def dequeue(self):\n",
    "        return self.items.pop()\n",
    "\n",
    "    def is_empty(self):\n",
    "        return self.items == []\n",
    "\n",
    "    def size(self):\n",
    "        return len(self.items)"
   ]
  },
  {
   "cell_type": "code",
   "execution_count": 9,
   "id": "236b2823",
   "metadata": {},
   "outputs": [],
   "source": [
    "from random import randint\n",
    "from time import sleep\n",
    "\n",
    "def square_queue(elements):\n",
    "    queue = Queue()\n",
    "    for element in elements:\n",
    "        print(\"Adding %s to our queue.\" % element)\n",
    "        queue.enqueue(element)\n",
    "    while not queue.is_empty():\n",
    "        datum = queue.dequeue()\n",
    "        sleep(randint(1,3))\n",
    "        print(\"%s squared is %s\" % (datum, datum**2))"
   ]
  },
  {
   "cell_type": "code",
   "execution_count": 10,
   "id": "daf0d979",
   "metadata": {},
   "outputs": [
    {
     "name": "stdout",
     "output_type": "stream",
     "text": [
      "Adding 1 to our queue.\n",
      "Adding 2 to our queue.\n",
      "Adding 3 to our queue.\n",
      "Adding 4 to our queue.\n",
      "Adding 5 to our queue.\n",
      "1 squared is 1\n",
      "2 squared is 4\n",
      "3 squared is 9\n",
      "4 squared is 16\n",
      "5 squared is 25\n"
     ]
    }
   ],
   "source": [
    "square_queue([1, 2, 3, 4, 5])"
   ]
  },
  {
   "cell_type": "code",
   "execution_count": 6,
   "id": "dfd299a7",
   "metadata": {},
   "outputs": [],
   "source": [
    "class Node:\n",
    "    def __init__(self, data):\n",
    "        self.data = data\n",
    "        self.above = None"
   ]
  },
  {
   "cell_type": "code",
   "execution_count": 15,
   "id": "92216774",
   "metadata": {},
   "outputs": [],
   "source": [
    "class Stack:\n",
    "    def __init__(self):\n",
    "        self.base = None\n",
    "\n",
    "    def push(self, item):\n",
    "        if not self.base:\n",
    "            self.base = Node(item)\n",
    "        else:\n",
    "            current = self.base\n",
    "            while current.above: # while current.above != None\n",
    "                current = current.above\n",
    "            current.above = Node(item)\n",
    "\n",
    "    def pop(self):\n",
    "        pass\n",
    "\n",
    "    def is_empty(self):\n",
    "        if not self.base:\n",
    "            return True\n",
    "        return False\n",
    "\n",
    "    def size(self):\n",
    "        pass\n",
    "\n",
    "    def peek(self):\n",
    "        pass"
   ]
  },
  {
   "cell_type": "code",
   "execution_count": null,
   "id": "7d1362c4",
   "metadata": {},
   "outputs": [],
   "source": []
  }
 ],
 "metadata": {
  "kernelspec": {
   "display_name": "Python 3 (ipykernel)",
   "language": "python",
   "name": "python3"
  },
  "language_info": {
   "codemirror_mode": {
    "name": "ipython",
    "version": 3
   },
   "file_extension": ".py",
   "mimetype": "text/x-python",
   "name": "python",
   "nbconvert_exporter": "python",
   "pygments_lexer": "ipython3",
   "version": "3.8.10"
  }
 },
 "nbformat": 4,
 "nbformat_minor": 5
}
