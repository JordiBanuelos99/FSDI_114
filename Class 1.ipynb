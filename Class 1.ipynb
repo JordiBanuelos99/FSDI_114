{
 "cells": [
  {
   "cell_type": "code",
   "execution_count": 9,
   "id": "82c82138",
   "metadata": {},
   "outputs": [
    {
     "name": "stdout",
     "output_type": "stream",
     "text": [
      "H\n",
      "e\n",
      "l\n",
      "l\n",
      "o\n",
      ",\n",
      " \n",
      "w\n",
      "o\n",
      "r\n",
      "l\n",
      "d\n",
      "!\n"
     ]
    }
   ],
   "source": [
    "for letter in \"Hello, world!\":\n",
    "    print(letter)"
   ]
  },
  {
   "cell_type": "markdown",
   "id": "a1d326ab",
   "metadata": {},
   "source": [
    "# Problem 1\n",
    "### Given two strings (string_a and string_b) let's check whether or not these are anagrams of each other given the following criteria:\n",
    "\n",
    "#### Two strings are anagrams of each other if all conditions below are met:\n",
    "1. They must be exactly of the same lenth.\n",
    "2. They must use the exact same characters (no more, no less).\n",
    "\n",
    "´Example: cars and scar, hearth and earth, etc´"
   ]
  },
  {
   "cell_type": "code",
   "execution_count": 10,
   "id": "88808e00",
   "metadata": {},
   "outputs": [
    {
     "ename": "IndentationError",
     "evalue": "expected an indented block (71020269.py, line 5)",
     "output_type": "error",
     "traceback": [
      "\u001b[0;36m  Input \u001b[0;32mIn [10]\u001b[0;36m\u001b[0m\n\u001b[0;31m    pass # remove pass when you've implemented the solution\u001b[0m\n\u001b[0m    ^\u001b[0m\n\u001b[0;31mIndentationError\u001b[0m\u001b[0;31m:\u001b[0m expected an indented block\n"
     ]
    }
   ],
   "source": [
    "# Instructions: populate the function below so that it returns True if the parameters are anagrams,\n",
    "# False otherwise.\n",
    "\n",
    "def are_anagrams(string_a, string_b):\n",
    "pass # remove pass when you've implemented the solution"
   ]
  },
  {
   "cell_type": "code",
   "execution_count": 11,
   "id": "4b917b8c",
   "metadata": {},
   "outputs": [
    {
     "ename": "IndentationError",
     "evalue": "expected an indented block (148461082.py, line 4)",
     "output_type": "error",
     "traceback": [
      "\u001b[0;36m  Input \u001b[0;32mIn [11]\u001b[0;36m\u001b[0m\n\u001b[0;31m    pass # remove pass when you've implemented the solution\u001b[0m\n\u001b[0m    ^\u001b[0m\n\u001b[0;31mIndentationError\u001b[0m\u001b[0;31m:\u001b[0m expected an indented block\n"
     ]
    }
   ],
   "source": [
    "   # BAD SOLUTION\n",
    "\n",
    "def bad_are_anagrams(string_a, string_b):\n",
    "pass # remove pass when you've implemented the solution\n"
   ]
  },
  {
   "cell_type": "code",
   "execution_count": 22,
   "id": "419dcb95",
   "metadata": {},
   "outputs": [
    {
     "data": {
      "text/plain": [
       "True"
      ]
     },
     "execution_count": 22,
     "metadata": {},
     "output_type": "execute_result"
    }
   ],
   "source": [
    "are_anagrams(\"cars\", \"scar\")"
   ]
  },
  {
   "cell_type": "code",
   "execution_count": 54,
   "id": "08f30fd7",
   "metadata": {},
   "outputs": [],
   "source": [
    "# The best case time complexity will be 0(1) AKA constant time\n",
    "# The word case time complexity will be 0(n) AKA linear time\n",
    "\n",
    "def are_anagrams(originalstring_a, originalstring_b):\n",
    "    string_a = originalstring_a.replace(' ','')\n",
    "    string_a = string_a.lower()\n",
    "    string_b = originalstring_b.replace(' ','')\n",
    "    string_b = string_b.lower()\n",
    "    print(string_a)\n",
    "    print(string_b)\n",
    "    if len(string_a) != len(string_b):\n",
    "        return False\n",
    "    dict_a = {}\n",
    "    dict_b = {}\n",
    "    for i in range(len(string_a)):\n",
    "        if string_a[i] in dict_a.keys():\n",
    "            dict_a[string_a[i]] += 1\n",
    "        else:\n",
    "            dict_a[string_a[i]] = 1\n",
    "        if string_b[i] in dict_b.keys():\n",
    "            dict_b[string_b[i]]+= 1\n",
    "        else:\n",
    "            dict_b[string_b[i]] = 1\n",
    "    return dict_a == dict_b\n"
   ]
  },
  {
   "cell_type": "code",
   "execution_count": 41,
   "id": "901164ea",
   "metadata": {},
   "outputs": [
    {
     "name": "stdout",
     "output_type": "stream",
     "text": [
      "cars\n",
      "scar\n"
     ]
    },
    {
     "data": {
      "text/plain": [
       "True"
      ]
     },
     "execution_count": 41,
     "metadata": {},
     "output_type": "execute_result"
    }
   ],
   "source": [
    "are_anagrams(\"cars\", \"scar\")"
   ]
  },
  {
   "cell_type": "code",
   "execution_count": 44,
   "id": "19a431c3",
   "metadata": {},
   "outputs": [
    {
     "name": "stdout",
     "output_type": "stream",
     "text": [
      "abccc\n",
      "ccabc\n"
     ]
    },
    {
     "data": {
      "text/plain": [
       "True"
      ]
     },
     "execution_count": 44,
     "metadata": {},
     "output_type": "execute_result"
    }
   ],
   "source": [
    "are_anagrams(\"abccc\", \"ccabc\")"
   ]
  },
  {
   "cell_type": "code",
   "execution_count": 55,
   "id": "d5410729",
   "metadata": {},
   "outputs": [
    {
     "name": "stdout",
     "output_type": "stream",
     "text": [
      "iamlordvoldemort\n",
      "tommarvoloriddle\n"
     ]
    },
    {
     "data": {
      "text/plain": [
       "True"
      ]
     },
     "execution_count": 55,
     "metadata": {},
     "output_type": "execute_result"
    }
   ],
   "source": [
    "# Assignment 1!\n",
    "\n",
    "# In the harry potter series\n",
    "# The villain's name is \"Lord Voldemort\"; He chose this name because\n",
    "# it is an anagram of his name \"Tom Riddle\" from the phrase:\n",
    "# \"I am Lord Voldemort\" which is an anagram of \"Tom Marvolo Riddle\"\n",
    "\n",
    "# This extension is the homework assignment.\n",
    "# Your function should return True for the example shown above\n",
    "\n",
    "are_anagrams(\"I am Lord Voldemort\", \"Tom Marvolo Riddle\")"
   ]
  },
  {
   "cell_type": "code",
   "execution_count": null,
   "id": "3254df78",
   "metadata": {},
   "outputs": [],
   "source": []
  }
 ],
 "metadata": {
  "kernelspec": {
   "display_name": "Python 3 (ipykernel)",
   "language": "python",
   "name": "python3"
  },
  "language_info": {
   "codemirror_mode": {
    "name": "ipython",
    "version": 3
   },
   "file_extension": ".py",
   "mimetype": "text/x-python",
   "name": "python",
   "nbconvert_exporter": "python",
   "pygments_lexer": "ipython3",
   "version": "3.8.10"
  }
 },
 "nbformat": 4,
 "nbformat_minor": 5
}
